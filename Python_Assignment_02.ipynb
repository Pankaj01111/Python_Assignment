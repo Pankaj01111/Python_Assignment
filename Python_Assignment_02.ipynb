{
 "cells": [
  {
   "cell_type": "markdown",
   "id": "ecddc491-aefc-430d-aee1-2dd9998edda4",
   "metadata": {},
   "source": [
    "Name : Pankaj Verma  Location : New Delhi  Date : 05/09/2024"
   ]
  },
  {
   "cell_type": "markdown",
   "id": "350d146e-aaf3-4de4-ae63-8084c79cbe4a",
   "metadata": {},
   "source": [
    "Assignment 2 : Slicing "
   ]
  },
  {
   "cell_type": "markdown",
   "id": "a17985e8-5198-4f16-a637-3f4802034836",
   "metadata": {},
   "source": [
    "Part 1: Basic Slicing \n",
    "1. Introduction to Slicing: "
   ]
  },
  {
   "cell_type": "markdown",
   "id": "6b56a1a5-25e2-4f87-836a-c14f49eb72ea",
   "metadata": {},
   "source": [
    "(a). Given a string s = \"Hello, World!\", slice and print the following"
   ]
  },
  {
   "cell_type": "code",
   "execution_count": 2,
   "id": "06156b76-4696-4e28-935d-4caef585272d",
   "metadata": {},
   "outputs": [],
   "source": [
    "s = \"Hello, World!\""
   ]
  },
  {
   "cell_type": "code",
   "execution_count": 3,
   "id": "543a4137-7dee-4b71-845d-0d89c743ec10",
   "metadata": {},
   "outputs": [
    {
     "data": {
      "text/plain": [
       "13"
      ]
     },
     "execution_count": 3,
     "metadata": {},
     "output_type": "execute_result"
    }
   ],
   "source": [
    "len(s)"
   ]
  },
  {
   "cell_type": "code",
   "execution_count": 4,
   "id": "5dd93646-6d10-4640-9bda-5ab0326b48a2",
   "metadata": {},
   "outputs": [
    {
     "name": "stdout",
     "output_type": "stream",
     "text": [
      "Hello, World!\n"
     ]
    }
   ],
   "source": [
    "print(s[:]) #The entire string"
   ]
  },
  {
   "cell_type": "code",
   "execution_count": 5,
   "id": "28f5f367-b31a-4765-ab9a-88d7c7913dd1",
   "metadata": {},
   "outputs": [
    {
     "name": "stdout",
     "output_type": "stream",
     "text": [
      "Hello\n"
     ]
    }
   ],
   "source": [
    "print(s[0:5]) #The first 5 characters"
   ]
  },
  {
   "cell_type": "code",
   "execution_count": 6,
   "id": "17b91d6c-b7cc-4026-b336-d85d224cbf69",
   "metadata": {},
   "outputs": [
    {
     "name": "stdout",
     "output_type": "stream",
     "text": [
      "World!\n"
     ]
    }
   ],
   "source": [
    "print(s[7:]) #The last 5 characters"
   ]
  },
  {
   "cell_type": "code",
   "execution_count": 7,
   "id": "16e3a547-7d61-4351-a2e5-119c49ccdeed",
   "metadata": {},
   "outputs": [
    {
     "name": "stdout",
     "output_type": "stream",
     "text": [
      "ello, World\n"
     ]
    }
   ],
   "source": [
    "print(s[1:-1]) #The string excludes the first and last characters"
   ]
  },
  {
   "cell_type": "code",
   "execution_count": 8,
   "id": "4086df39-c874-45c1-ba22-d0dc8b3f245e",
   "metadata": {},
   "outputs": [
    {
     "name": "stdout",
     "output_type": "stream",
     "text": [
      "el,Wrd\n"
     ]
    }
   ],
   "source": [
    "print(s[1::2]) #Every second character in the string"
   ]
  },
  {
   "cell_type": "markdown",
   "id": "58f89185-6b5a-4805-a900-7c508ab52526",
   "metadata": {},
   "source": [
    "2. Slicing with Negative Indices:\n",
    "\n",
    "(a). Use negative indices to slice and print the following from the string \n",
    "s: "
   ]
  },
  {
   "cell_type": "code",
   "execution_count": 9,
   "id": "adf80fa2-0186-4c0f-8f0c-e96d82b1e164",
   "metadata": {},
   "outputs": [
    {
     "name": "stdout",
     "output_type": "stream",
     "text": [
      "ld!\n"
     ]
    }
   ],
   "source": [
    "print(s[-3:])  #The last 3 characters."
   ]
  },
  {
   "cell_type": "code",
   "execution_count": 10,
   "id": "cc6f41b7-b060-445b-8f2c-1f2230ed5abb",
   "metadata": {},
   "outputs": [
    {
     "name": "stdout",
     "output_type": "stream",
     "text": [
      "Hello, Worl\n"
     ]
    }
   ],
   "source": [
    "print(s[:-2])  #All characters except the last 2"
   ]
  },
  {
   "cell_type": "code",
   "execution_count": 11,
   "id": "cb18f9b7-4514-4c1b-9520-1ad357eff778",
   "metadata": {},
   "outputs": [
    {
     "name": "stdout",
     "output_type": "stream",
     "text": [
      "!dlroW ,olleH\n"
     ]
    }
   ],
   "source": [
    "print(s[::-1])  #The string reversed"
   ]
  },
  {
   "cell_type": "markdown",
   "id": "46f5f400-77c5-419d-bc60-e48696a101da",
   "metadata": {},
   "source": [
    "Part 2: Advanced Slicing \n",
    "\n",
    "1. Slicing Substrings:\n",
    "    \n",
    "(a). Given a string sentence = \"The quick brown fox jumps over the lazy \n",
    "dog\", slice and print the following:"
   ]
  },
  {
   "cell_type": "code",
   "execution_count": 12,
   "id": "c22257e9-3c98-48e8-ba68-ccb8420c642d",
   "metadata": {},
   "outputs": [],
   "source": [
    "sentence = \"The quick brown fox jumps over the lazy dog\""
   ]
  },
  {
   "cell_type": "code",
   "execution_count": 18,
   "id": "75a3077a-f58e-477e-a07b-53601328b533",
   "metadata": {},
   "outputs": [
    {
     "data": {
      "text/plain": [
       "43"
      ]
     },
     "execution_count": 18,
     "metadata": {},
     "output_type": "execute_result"
    }
   ],
   "source": [
    "len(sentence)"
   ]
  },
  {
   "cell_type": "code",
   "execution_count": 27,
   "id": "aa10e4b6-873e-42fc-8949-ab780f31ab90",
   "metadata": {},
   "outputs": [
    {
     "name": "stdout",
     "output_type": "stream",
     "text": [
      "quick\n"
     ]
    }
   ],
   "source": [
    "print(sentence[4:9])  #The word \"quick\""
   ]
  },
  {
   "cell_type": "code",
   "execution_count": 32,
   "id": "9f8f2ddc-ad0e-4bb2-816b-d4d74315830a",
   "metadata": {},
   "outputs": [
    {
     "name": "stdout",
     "output_type": "stream",
     "text": [
      "lazy \n"
     ]
    }
   ],
   "source": [
    "print(sentence[35:40])  #The word \"lazy\""
   ]
  },
  {
   "cell_type": "code",
   "execution_count": 37,
   "id": "c37b0a7d-afa9-40b7-8990-4fd3a5b4382c",
   "metadata": {},
   "outputs": [
    {
     "name": "stdout",
     "output_type": "stream",
     "text": [
      "brown fox jumps\n"
     ]
    }
   ],
   "source": [
    "print(sentence[10:25])  #The words \"brown fox jumps\""
   ]
  },
  {
   "cell_type": "markdown",
   "id": "160ce44d-22e4-4a81-be31-fff19230c4a5",
   "metadata": {},
   "source": [
    "2. Step Slicing: \n",
    "\n",
    "a. Use step slicing to print the following from the string s:"
   ]
  },
  {
   "cell_type": "code",
   "execution_count": 45,
   "id": "3d3b8a7d-d2a6-4fc0-929c-fef4578f849a",
   "metadata": {},
   "outputs": [
    {
     "name": "stdout",
     "output_type": "stream",
     "text": [
      "T i o xusv ea g\n"
     ]
    }
   ],
   "source": [
    "print(sentence[0::3])  #The words \"brown fox jumps\""
   ]
  },
  {
   "cell_type": "code",
   "execution_count": 46,
   "id": "9ca880ee-ada4-40a5-9a6b-d8ec598ed7b3",
   "metadata": {},
   "outputs": [
    {
     "name": "stdout",
     "output_type": "stream",
     "text": [
      "hqcbwf m et zd\n"
     ]
    }
   ],
   "source": [
    "print(sentence[1::3])  #The words \"brown fox jumps\""
   ]
  },
  {
   "cell_type": "code",
   "execution_count": 55,
   "id": "9309b9a6-abb7-4958-b0a4-cb5aea65caf2",
   "metadata": {},
   "outputs": [
    {
     "name": "stdout",
     "output_type": "stream",
     "text": [
      "gdya h eosmjxfnobkiqeT\n"
     ]
    }
   ],
   "source": [
    "print(sentence[::-2])  #The string reversed, stepping by 2"
   ]
  },
  {
   "cell_type": "markdown",
   "id": "a1cf5dd6-5e41-47f1-be70-1ecc97e744a1",
   "metadata": {},
   "source": [
    "Part 3: Practical Application \n",
    "1. Extracting Information:\n",
    "\n",
    "a. Given a string data = \"2024-09-01,Sunny,25°C\", extract and print \n",
    "the following: "
   ]
  },
  {
   "cell_type": "code",
   "execution_count": 56,
   "id": "abded53b-1283-48db-aa06-bb4d0fbed745",
   "metadata": {},
   "outputs": [],
   "source": [
    "data = \"2024-09-01,Sunny,25°C\""
   ]
  },
  {
   "cell_type": "code",
   "execution_count": 57,
   "id": "e78a639d-84e8-40b6-bb1f-cad7ef09f649",
   "metadata": {},
   "outputs": [
    {
     "data": {
      "text/plain": [
       "21"
      ]
     },
     "execution_count": 57,
     "metadata": {},
     "output_type": "execute_result"
    }
   ],
   "source": [
    "len(data)"
   ]
  },
  {
   "cell_type": "code",
   "execution_count": 59,
   "id": "a4a8f093-4f76-47d7-a817-2a3334330f3a",
   "metadata": {},
   "outputs": [
    {
     "name": "stdout",
     "output_type": "stream",
     "text": [
      "2024-09-01\n"
     ]
    }
   ],
   "source": [
    "print(data[:10])  #The date"
   ]
  },
  {
   "cell_type": "code",
   "execution_count": 63,
   "id": "2944792d-78f8-45a6-bea4-13f902f1d399",
   "metadata": {},
   "outputs": [
    {
     "name": "stdout",
     "output_type": "stream",
     "text": [
      "Sunny\n"
     ]
    }
   ],
   "source": [
    "print(data[11:16])  #The weather condition"
   ]
  },
  {
   "cell_type": "code",
   "execution_count": 65,
   "id": "12758a1a-e8cb-4659-bcac-ada06aa458ee",
   "metadata": {},
   "outputs": [
    {
     "name": "stdout",
     "output_type": "stream",
     "text": [
      "25°C\n"
     ]
    }
   ],
   "source": [
    "print(data[17:])  #The temperature"
   ]
  },
  {
   "cell_type": "markdown",
   "id": "9344ea0f-579d-4e28-a8d1-f241396db84e",
   "metadata": {},
   "source": [
    "2. Reformatting Strings"
   ]
  },
  {
   "cell_type": "code",
   "execution_count": 87,
   "id": "585fc079-46a2-4bf0-b497-ccff919a6769",
   "metadata": {},
   "outputs": [],
   "source": [
    "phone_number = \"(123) 456-7890\"  "
   ]
  },
  {
   "cell_type": "code",
   "execution_count": 88,
   "id": "a718912b-2fda-40fc-8d6e-acf43eb68365",
   "metadata": {},
   "outputs": [
    {
     "data": {
      "text/plain": [
       "14"
      ]
     },
     "execution_count": 88,
     "metadata": {},
     "output_type": "execute_result"
    }
   ],
   "source": [
    "len(phone_number)"
   ]
  },
  {
   "cell_type": "code",
   "execution_count": 89,
   "id": "d910c64f-1c10-4236-b88a-1ed50fae0ca6",
   "metadata": {},
   "outputs": [
    {
     "name": "stdout",
     "output_type": "stream",
     "text": [
      "123-456-7890\n"
     ]
    }
   ],
   "source": [
    "print(phone_number[1:4] +\"-\"+ phone_number[6:9] + phone_number[9:])   # reformat it to ‘123-456-7890’"
   ]
  },
  {
   "cell_type": "markdown",
   "id": "b1823f42-cfb4-4167-83a9-86c7023ae2e5",
   "metadata": {},
   "source": [
    "Part 4: Questions based on string methods \n",
    "1. Upper and Lower Case Conversion: \n",
    "\n",
    "i. Given a string s = \"Hello, World!\", perform the following"
   ]
  },
  {
   "cell_type": "code",
   "execution_count": 92,
   "id": "fc0d1423-f59a-4791-a95e-67f25b5b8756",
   "metadata": {},
   "outputs": [],
   "source": [
    "s = \"Hello, World!\""
   ]
  },
  {
   "cell_type": "code",
   "execution_count": 94,
   "id": "beb02433-5759-490a-898c-17e127315371",
   "metadata": {},
   "outputs": [
    {
     "name": "stdout",
     "output_type": "stream",
     "text": [
      "HELLO, WORLD!\n"
     ]
    }
   ],
   "source": [
    "print(s.upper())  #Convert the string to all uppercase letters"
   ]
  },
  {
   "cell_type": "code",
   "execution_count": 95,
   "id": "e7005c27-f99c-4e8a-a771-088e50ec8153",
   "metadata": {},
   "outputs": [
    {
     "name": "stdout",
     "output_type": "stream",
     "text": [
      "hello, world!\n"
     ]
    }
   ],
   "source": [
    "print(s.lower())  #Convert the string to all lowercase letters"
   ]
  },
  {
   "cell_type": "code",
   "execution_count": 96,
   "id": "e1fc072d-f9ae-4199-a37c-d1257ddf0553",
   "metadata": {},
   "outputs": [
    {
     "name": "stdout",
     "output_type": "stream",
     "text": [
      "Hello, World!\n"
     ]
    }
   ],
   "source": [
    "print(s.title())  #Convert the string to title case"
   ]
  },
  {
   "cell_type": "code",
   "execution_count": 98,
   "id": "af64ea57-a652-4021-bd9a-3be0d3f5f1bb",
   "metadata": {},
   "outputs": [
    {
     "name": "stdout",
     "output_type": "stream",
     "text": [
      "Hello, world!\n"
     ]
    }
   ],
   "source": [
    "print(s.capitalize())  #Capitalize the first letter of the string"
   ]
  },
  {
   "cell_type": "markdown",
   "id": "0ad37468-c91b-4b79-99eb-28d8388a8eb7",
   "metadata": {},
   "source": [
    "2. Finding Substrings:\n",
    "\n",
    "Given a string s = \"The quick brown fox jumps over the lazy dog\", \n",
    "perform the  following: "
   ]
  },
  {
   "cell_type": "code",
   "execution_count": 99,
   "id": "dad105fd-186e-400f-b7d0-d3696fd07327",
   "metadata": {},
   "outputs": [],
   "source": [
    "s = \"The quick brown fox jumps over the lazy dog\""
   ]
  },
  {
   "cell_type": "code",
   "execution_count": 105,
   "id": "a7dec631-077f-4958-a51a-6d909300cc21",
   "metadata": {},
   "outputs": [
    {
     "name": "stdout",
     "output_type": "stream",
     "text": [
      "16\n"
     ]
    }
   ],
   "source": [
    "print(s.find(\"fox\")) #Find the position of the substring \"fox\"."
   ]
  },
  {
   "cell_type": "code",
   "execution_count": 104,
   "id": "cea4fb7d-b39d-4e49-ad74-dc7053eb6251",
   "metadata": {},
   "outputs": [
    {
     "name": "stdout",
     "output_type": "stream",
     "text": [
      "False\n"
     ]
    }
   ],
   "source": [
    "print(\"cat\" in s)  #Check if the substring \"cat\" is in the string"
   ]
  },
  {
   "cell_type": "markdown",
   "id": "dd5602c7-10be-4943-9a45-dadc975e91a1",
   "metadata": {},
   "source": [
    "3. Replacing Substrings: \n",
    "\n",
    "Given a string s = \"The quick brown fox jumps over the lazy dog\", \n",
    "perform the following: "
   ]
  },
  {
   "cell_type": "code",
   "execution_count": 106,
   "id": "4a8fac2c-9f5f-4cee-92b9-2b4968ed1400",
   "metadata": {},
   "outputs": [],
   "source": [
    " s = \"The quick brown fox jumps over the lazy dog\""
   ]
  },
  {
   "cell_type": "code",
   "execution_count": 115,
   "id": "feb9251e-1077-416d-b3fc-ab404bdf2345",
   "metadata": {},
   "outputs": [
    {
     "name": "stdout",
     "output_type": "stream",
     "text": [
      "The quick brown cat jumps over the lazy dog\n"
     ]
    }
   ],
   "source": [
    "print(s.replace(\"fox\",\"cat\"))    #Replace \"fox\" with \"cat\""
   ]
  },
  {
   "cell_type": "code",
   "execution_count": 116,
   "id": "6a08cef0-5d7f-4585-9b30-04a6df32c916",
   "metadata": {},
   "outputs": [
    {
     "name": "stdout",
     "output_type": "stream",
     "text": [
      "The_quick_brown_fox_jumps_over_the_lazy_dog\n"
     ]
    }
   ],
   "source": [
    "print(s.replace(\" \",\"_\"))    #Replace all spaces with underscores"
   ]
  },
  {
   "cell_type": "code",
   "execution_count": 117,
   "id": "990fb651-77a0-4c88-8fad-7509b9155b07",
   "metadata": {},
   "outputs": [
    {
     "name": "stdout",
     "output_type": "stream",
     "text": [
      "['The', 'quick', 'brown', 'fox', 'jumps', 'over', 'the', 'lazy', 'dog']\n"
     ]
    }
   ],
   "source": [
    "print(s.split())    #Split the string into a list of words."
   ]
  },
  {
   "cell_type": "code",
   "execution_count": 118,
   "id": "e02430fd-90f3-4271-af14-fa8173e3e071",
   "metadata": {},
   "outputs": [
    {
     "name": "stdout",
     "output_type": "stream",
     "text": [
      "['The quick br', 'wn f', 'x jumps ', 'ver the lazy d', 'g']\n"
     ]
    }
   ],
   "source": [
    "print(s.split('o'))    #Split the string by the letter 'o'"
   ]
  },
  {
   "cell_type": "markdown",
   "id": "2e233ee3-e054-4fef-a999-7468e6f21c22",
   "metadata": {},
   "source": [
    "4.Joining Strings: \n",
    "\n",
    "Given a list of words words = [\"The\", \"quick\", \"brown\", \"fox\"], perform the following:"
   ]
  },
  {
   "cell_type": "code",
   "execution_count": 119,
   "id": "d01c2ba0-1c9f-4a69-bfda-12fb4e74e6f9",
   "metadata": {},
   "outputs": [],
   "source": [
    "words = [\"The\", \"quick\", \"brown\", \"fox\"]"
   ]
  },
  {
   "cell_type": "code",
   "execution_count": 120,
   "id": "57cd278c-24bd-4775-80f5-c1748a732d78",
   "metadata": {},
   "outputs": [
    {
     "name": "stdout",
     "output_type": "stream",
     "text": [
      "The quick brown fox\n"
     ]
    }
   ],
   "source": [
    "print(\" \".join(words))  #Join the words with spaces. "
   ]
  },
  {
   "cell_type": "code",
   "execution_count": 121,
   "id": "eab99bd4-6277-42d3-9196-787fa84b824f",
   "metadata": {},
   "outputs": [
    {
     "name": "stdout",
     "output_type": "stream",
     "text": [
      "The-quick-brown-fox\n"
     ]
    }
   ],
   "source": [
    "print(\"-\".join(words))  #Join the words with hyphens"
   ]
  },
  {
   "cell_type": "code",
   "execution_count": null,
   "id": "556be3ea-0835-4074-89c7-f33f173bd33e",
   "metadata": {},
   "outputs": [],
   "source": []
  }
 ],
 "metadata": {
  "kernelspec": {
   "display_name": "Python 3 (ipykernel)",
   "language": "python",
   "name": "python3"
  },
  "language_info": {
   "codemirror_mode": {
    "name": "ipython",
    "version": 3
   },
   "file_extension": ".py",
   "mimetype": "text/x-python",
   "name": "python",
   "nbconvert_exporter": "python",
   "pygments_lexer": "ipython3",
   "version": "3.11.7"
  }
 },
 "nbformat": 4,
 "nbformat_minor": 5
}
