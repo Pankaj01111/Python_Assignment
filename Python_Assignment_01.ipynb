{
 "cells": [
  {
   "cell_type": "raw",
   "id": "9ec3637f-b575-4708-8bc7-cd77667a01a1",
   "metadata": {},
   "source": [
    "Name : Pankaj Verma\n",
    "Location : New Delhi\n",
    "date : 03/09/2024"
   ]
  },
  {
   "cell_type": "markdown",
   "id": "4aa5f9e9-3526-46b5-9a20-697ebf714d92",
   "metadata": {},
   "source": [
    "1. Understanding Variables"
   ]
  },
  {
   "cell_type": "markdown",
   "id": "74ce231e-a377-464f-a311-1d9d96e7f75e",
   "metadata": {},
   "source": [
    "(a) Define a variable in Python. Provide an example of how to create a variable that\r\n",
    "stores your name."
   ]
  },
  {
   "cell_type": "raw",
   "id": "5b629db1-874d-4bb6-9bf0-2583ce1af1e2",
   "metadata": {},
   "source": [
    "Variable in Python - Variables are containers for storing data values."
   ]
  },
  {
   "cell_type": "code",
   "execution_count": 11,
   "id": "6a27f29c-9c62-4e29-b57f-81291c05ced7",
   "metadata": {},
   "outputs": [],
   "source": [
    "#Example"
   ]
  },
  {
   "cell_type": "code",
   "execution_count": 3,
   "id": "0c06a91f-bebc-4259-b2d0-0c3f032b73b6",
   "metadata": {},
   "outputs": [],
   "source": [
    "Name = \"Pankaj\"  #Name is the variable here and it storing string value \"Pankaj\""
   ]
  },
  {
   "cell_type": "markdown",
   "id": "0af8acdd-b26f-4eeb-8fda-1110a723b452",
   "metadata": {},
   "source": [
    "(b) What is the difference between a variable and a constant? Can we have constants in\r\n",
    "Python?"
   ]
  },
  {
   "cell_type": "raw",
   "id": "944744fc-09eb-4119-b990-d8ee2b36c83d",
   "metadata": {},
   "source": [
    "A constant is a data item whose value cannot change during the program’s execution. "
   ]
  },
  {
   "cell_type": "code",
   "execution_count": 12,
   "id": "9da4d16b-dacf-44b2-a488-3c848ec87e78",
   "metadata": {},
   "outputs": [],
   "source": [
    "#Example\n",
    "My_name_is_pankaj = \"Pankaj_Verma\""
   ]
  },
  {
   "cell_type": "markdown",
   "id": "c82019bb-c3a0-4ad1-b72f-91372ec01bd5",
   "metadata": {},
   "source": [
    "A variable is a data item whose value can change during the program’s execution."
   ]
  },
  {
   "cell_type": "code",
   "execution_count": 9,
   "id": "987536ec-7860-427d-a39b-6b4090dda01b",
   "metadata": {},
   "outputs": [],
   "source": [
    "Code_lang = \"Python\" "
   ]
  },
  {
   "cell_type": "code",
   "execution_count": 10,
   "id": "af132268-650e-4d27-8411-406ca788940a",
   "metadata": {},
   "outputs": [
    {
     "data": {
      "text/plain": [
       "'Python'"
      ]
     },
     "execution_count": 10,
     "metadata": {},
     "output_type": "execute_result"
    }
   ],
   "source": [
    "Code_lang"
   ]
  },
  {
   "cell_type": "raw",
   "id": "f28da112-2460-4cc1-a1cb-330b21b7b704",
   "metadata": {},
   "source": [
    "Python does not contain any constants. Instead, Python provides us a Capitalized naming convention method. Any variable written in the Upper case is considered as a Constant in Python."
   ]
  },
  {
   "cell_type": "markdown",
   "id": "fcfd19e0-9bd1-4ec9-be47-ce2566a1f074",
   "metadata": {},
   "source": [
    "2. Working with Different Data Types"
   ]
  },
  {
   "cell_type": "markdown",
   "id": "0b97ad58-3370-49f1-b3cc-5ef1bc0b5d8d",
   "metadata": {},
   "source": [
    "(a). Create variables of the following types in Python:"
   ]
  },
  {
   "cell_type": "code",
   "execution_count": 28,
   "id": "f8f898d6-7d7e-4d54-ad87-018524b4d7b4",
   "metadata": {},
   "outputs": [],
   "source": [
    "Num = 1122 #integer"
   ]
  },
  {
   "cell_type": "code",
   "execution_count": 29,
   "id": "4143e48c-716a-4412-bdc0-53eeadd23282",
   "metadata": {},
   "outputs": [
    {
     "name": "stdout",
     "output_type": "stream",
     "text": [
      "1122\n"
     ]
    }
   ],
   "source": [
    "print(Num)"
   ]
  },
  {
   "cell_type": "code",
   "execution_count": 16,
   "id": "ce6dff33-7a84-4c8b-9370-d8c720b95a6c",
   "metadata": {},
   "outputs": [],
   "source": [
    "point = 4.565 #float"
   ]
  },
  {
   "cell_type": "code",
   "execution_count": 30,
   "id": "3d53f140-8e23-4299-9769-1b3e880d1258",
   "metadata": {},
   "outputs": [
    {
     "name": "stdout",
     "output_type": "stream",
     "text": [
      "4.565\n"
     ]
    }
   ],
   "source": [
    "print(point)"
   ]
  },
  {
   "cell_type": "code",
   "execution_count": 22,
   "id": "3d46c7a4-f8ef-4f43-bf7c-7fd1a29a08ac",
   "metadata": {},
   "outputs": [],
   "source": [
    "Name = \"Pankaj\" #String"
   ]
  },
  {
   "cell_type": "code",
   "execution_count": 31,
   "id": "27fead7a-1fad-47cd-9c55-88e2eec2041e",
   "metadata": {},
   "outputs": [
    {
     "name": "stdout",
     "output_type": "stream",
     "text": [
      "Pankaj\n"
     ]
    }
   ],
   "source": [
    "print(Name)"
   ]
  },
  {
   "cell_type": "code",
   "execution_count": 32,
   "id": "c49813de-1543-47f4-afc3-90e3f79d117c",
   "metadata": {},
   "outputs": [],
   "source": [
    "Boole = (10 > 4)"
   ]
  },
  {
   "cell_type": "code",
   "execution_count": 33,
   "id": "49c386de-8abe-4d44-a05c-031670b87966",
   "metadata": {},
   "outputs": [
    {
     "name": "stdout",
     "output_type": "stream",
     "text": [
      "True\n"
     ]
    }
   ],
   "source": [
    "print(Boole)"
   ]
  },
  {
   "cell_type": "markdown",
   "id": "f3bd63e5-3071-45d7-8d36-72052e33e7d5",
   "metadata": {},
   "source": [
    "(b). Write a Python script to display the type of each variable you created"
   ]
  },
  {
   "cell_type": "code",
   "execution_count": 35,
   "id": "acbb821f-93f4-46bb-8ce8-4d07985eb796",
   "metadata": {},
   "outputs": [
    {
     "name": "stdout",
     "output_type": "stream",
     "text": [
      "The type of Num is: <class 'int'>\n",
      "The type of point is: <class 'float'>\n",
      "The type of Name is: <class 'str'>\n",
      "The type of Boole is: <class 'bool'>\n"
     ]
    }
   ],
   "source": [
    "print(f\"The type of Num is: {type(Num)}\")\n",
    "print(f\"The type of point is: {type(point)}\")\n",
    "print(f\"The type of Name is: {type(Name)}\")\n",
    "print(f\"The type of Boole is: {type(Boole)}\")"
   ]
  },
  {
   "cell_type": "markdown",
   "id": "08e234c2-ce5a-4553-819f-bfff555e2116",
   "metadata": {},
   "source": [
    "3. Arithmetic Operators"
   ]
  },
  {
   "cell_type": "markdown",
   "id": "c5590aea-0bd3-498d-8b25-50ad2a66f6f9",
   "metadata": {},
   "source": [
    "(a). Explain the following arithmetic operators with examples:"
   ]
  },
  {
   "cell_type": "raw",
   "id": "0fcc418e-e8d9-4d11-9798-7e4ef1b3b568",
   "metadata": {},
   "source": [
    "Addition (`+`) = Adds two values together "
   ]
  },
  {
   "cell_type": "code",
   "execution_count": 53,
   "id": "df5d9ecc-1ad1-4c1a-b6a7-888f65a6a5e8",
   "metadata": {},
   "outputs": [
    {
     "name": "stdout",
     "output_type": "stream",
     "text": [
      "Pankaj1234\n"
     ]
    }
   ],
   "source": [
    "#Example\n",
    "Name = \"Pankaj\" + \"1234\"\n",
    "print(Name)"
   ]
  },
  {
   "cell_type": "raw",
   "id": "aa23c9e6-6495-49ba-90ff-ffbeab76579c",
   "metadata": {},
   "source": [
    "Subtraction (-) = subtracts two operands"
   ]
  },
  {
   "cell_type": "code",
   "execution_count": 54,
   "id": "3ddc9506-4dd1-406d-87ab-f1459086e621",
   "metadata": {},
   "outputs": [
    {
     "name": "stdout",
     "output_type": "stream",
     "text": [
      "47\n"
     ]
    }
   ],
   "source": [
    "#Example\n",
    "subs = 56-9\n",
    "print(subs)"
   ]
  },
  {
   "cell_type": "raw",
   "id": "b13c8e0b-c9f7-4e3d-afdc-aaedf751dca1",
   "metadata": {},
   "source": [
    "Multiplication (``) = Multiplies two values"
   ]
  },
  {
   "cell_type": "code",
   "execution_count": 55,
   "id": "b39ff045-3c0b-42bb-abc8-096284ba7314",
   "metadata": {},
   "outputs": [
    {
     "name": "stdout",
     "output_type": "stream",
     "text": [
      "PankajPankaj\n"
     ]
    }
   ],
   "source": [
    "#Example\n",
    "Multiple = 2*\"Pankaj\"\n",
    "print(Multiple)"
   ]
  },
  {
   "cell_type": "raw",
   "id": "959c2a69-0f47-487c-b727-d694e64237bb",
   "metadata": {},
   "source": [
    "Division (`/`) = Divides the left-hand operand by the right-hand operand. This operator always returns a floating-point result, even if both operands are integers."
   ]
  },
  {
   "cell_type": "code",
   "execution_count": 56,
   "id": "64416b4c-1be1-4a09-8ad7-55a2040778e5",
   "metadata": {},
   "outputs": [
    {
     "name": "stdout",
     "output_type": "stream",
     "text": [
      "0.6598837209302325\n"
     ]
    }
   ],
   "source": [
    "#Example \n",
    "Div = 454/688\n",
    "print(Div)"
   ]
  },
  {
   "cell_type": "raw",
   "id": "841c62d0-4b5c-4646-973b-06401c61d238",
   "metadata": {},
   "source": [
    "Floor Division (`//`) = Divides two numbers and returns the largest integer that is smaller or equal to the result"
   ]
  },
  {
   "cell_type": "code",
   "execution_count": 58,
   "id": "964be877-6c71-434e-aa7a-1678f42f4415",
   "metadata": {},
   "outputs": [
    {
     "name": "stdout",
     "output_type": "stream",
     "text": [
      "1\n"
     ]
    }
   ],
   "source": [
    "#Example \n",
    "Floor = 6//4\n",
    "print(Floor)"
   ]
  },
  {
   "cell_type": "raw",
   "id": "774ee84e-e542-4553-b861-89303ad2ee1f",
   "metadata": {},
   "source": [
    "Modulus (`%`) = returns the remainder when the first operand is divided by the second"
   ]
  },
  {
   "cell_type": "code",
   "execution_count": 59,
   "id": "63609d29-b6ab-40fb-ba23-7f3bc6ac60d5",
   "metadata": {},
   "outputs": [
    {
     "name": "stdout",
     "output_type": "stream",
     "text": [
      "4\n"
     ]
    }
   ],
   "source": [
    "#Example\n",
    "Mod = 34%6\n",
    "print(Mod)"
   ]
  },
  {
   "cell_type": "raw",
   "id": "38fb28a4-e91d-45f8-b0fb-d132f1080e06",
   "metadata": {},
   "source": [
    "Exponentiation (``) = Returns first raised to power second"
   ]
  },
  {
   "cell_type": "code",
   "execution_count": 60,
   "id": "eba54fa1-5afc-44d1-8da5-aec454edaff8",
   "metadata": {},
   "outputs": [
    {
     "name": "stdout",
     "output_type": "stream",
     "text": [
      "16\n"
     ]
    }
   ],
   "source": [
    "#Example\n",
    "Exp = 2**4\n",
    "print(Exp)"
   ]
  },
  {
   "cell_type": "markdown",
   "id": "9a8b3049-aa57-4375-a540-8cd1758ea679",
   "metadata": {},
   "source": [
    "(b). Write a Python script to calculate the area of a rectangle using variables `length` \n",
    "and `width` with values 5 and 10, respectively. Use the multiplication operator."
   ]
  },
  {
   "cell_type": "code",
   "execution_count": 63,
   "id": "75fe259a-0cbd-4e0f-a19b-f89115bf1dea",
   "metadata": {},
   "outputs": [
    {
     "name": "stdout",
     "output_type": "stream",
     "text": [
      "50\n"
     ]
    }
   ],
   "source": [
    "length = 5\n",
    "width = 10\n",
    "AOR = length*width #Area of rectangle\n",
    "print(AOR)"
   ]
  },
  {
   "cell_type": "markdown",
   "id": "149e5bc7-a2e6-445d-aeee-46bd166df47d",
   "metadata": {},
   "source": [
    "4. \n",
    "Comparison and Logical Operators"
   ]
  },
  {
   "cell_type": "markdown",
   "id": "f6708a1f-cdf9-4a3d-8dd1-8d04ba71ef03",
   "metadata": {},
   "source": [
    "(a). Explain the following comparison operators with examples: "
   ]
  },
  {
   "cell_type": "raw",
   "id": "e55c4211-22dc-4f76-8044-170e3f317388",
   "metadata": {},
   "source": [
    "Equal to (`==`) = True if both operands are equal else false"
   ]
  },
  {
   "cell_type": "code",
   "execution_count": 4,
   "id": "e93e33ea-3531-47c7-835f-7a0f8faff3ae",
   "metadata": {},
   "outputs": [
    {
     "name": "stdout",
     "output_type": "stream",
     "text": [
      "True\n",
      "False\n"
     ]
    }
   ],
   "source": [
    "#Example\n",
    "x = 6\n",
    "y = 6\n",
    "z = 8\n",
    "p = 4\n",
    "print(x==y)\n",
    "print(z ==p)"
   ]
  },
  {
   "cell_type": "raw",
   "id": "acbb6096-8ff5-4449-9aa2-7f0c224ea2d0",
   "metadata": {},
   "source": [
    "Not equal to (`!=`) = True if operands are not equal else false"
   ]
  },
  {
   "cell_type": "code",
   "execution_count": 6,
   "id": "4d4b7ad3-8d05-4cc2-820c-1db4db156b1a",
   "metadata": {},
   "outputs": [
    {
     "name": "stdout",
     "output_type": "stream",
     "text": [
      "True\n"
     ]
    }
   ],
   "source": [
    "#Example\n",
    "x = 7\n",
    "y = 4\n",
    "print(x!=y)"
   ]
  },
  {
   "cell_type": "raw",
   "id": "6db16950-3f14-4248-af36-f63548440675",
   "metadata": {},
   "source": [
    "Greater than (`>`) = True if the left operand is greater than the right else false"
   ]
  },
  {
   "cell_type": "code",
   "execution_count": 8,
   "id": "13e77de9-2591-42a4-be5c-771777e2b309",
   "metadata": {},
   "outputs": [
    {
     "name": "stdout",
     "output_type": "stream",
     "text": [
      "True\n"
     ]
    }
   ],
   "source": [
    "#Example \n",
    "x = 5\n",
    "y = 3\n",
    "print(x>y)"
   ]
  },
  {
   "cell_type": "raw",
   "id": "87e228c1-f85f-45a1-a5fe-dfa1dc9ab8bc",
   "metadata": {},
   "source": [
    "Less than (`<`) = True if the left operand is less than the right else false"
   ]
  },
  {
   "cell_type": "code",
   "execution_count": 9,
   "id": "8e542481-7b9b-4ba0-b94b-dc097749f1ba",
   "metadata": {},
   "outputs": [
    {
     "name": "stdout",
     "output_type": "stream",
     "text": [
      "True\n"
     ]
    }
   ],
   "source": [
    "#Example\n",
    "g = 34\n",
    "f = 56\n",
    "print(g<f)"
   ]
  },
  {
   "cell_type": "raw",
   "id": "0ae1bef5-9562-401a-94bc-74239f9a75fd",
   "metadata": {},
   "source": [
    "Greater than or equal to (`>=`)  = True if left operand is greater than or equal to the right else false"
   ]
  },
  {
   "cell_type": "code",
   "execution_count": 10,
   "id": "dfde370e-bd30-4cfb-a294-8b7a1b7d5599",
   "metadata": {},
   "outputs": [
    {
     "name": "stdout",
     "output_type": "stream",
     "text": [
      "False\n"
     ]
    }
   ],
   "source": [
    "#Example\n",
    "x = 5\n",
    "y = 89\n",
    "print(x>=y)"
   ]
  },
  {
   "cell_type": "raw",
   "id": "78b9a9fe-3c52-4ed6-9685-9bfcc7d9a222",
   "metadata": {},
   "source": [
    "Less than or equal to (`<=`) = True if left operand is less than or equal to the right else false"
   ]
  },
  {
   "cell_type": "code",
   "execution_count": 12,
   "id": "f0e45f7a-8fbc-4df3-bfe0-69dec8257f65",
   "metadata": {},
   "outputs": [
    {
     "name": "stdout",
     "output_type": "stream",
     "text": [
      "True\n"
     ]
    }
   ],
   "source": [
    "#Example\n",
    "x = 90\n",
    "y = 100\n",
    "print(x<=y)"
   ]
  },
  {
   "cell_type": "markdown",
   "id": "1e0ec14f-4d05-4c43-b561-afdf18ee5fad",
   "metadata": {},
   "source": [
    "(b). Using logical operators (`and`, `or`, `not`), write a Python script that checks if a \n",
    "number is positive and even."
   ]
  },
  {
   "cell_type": "code",
   "execution_count": 22,
   "id": "36afef85-6f1f-46de-ae28-fc260289f7c9",
   "metadata": {},
   "outputs": [
    {
     "name": "stdin",
     "output_type": "stream",
     "text": [
      "Enter a number:  7\n"
     ]
    },
    {
     "name": "stdout",
     "output_type": "stream",
     "text": [
      "7 is positive but not even.\n"
     ]
    }
   ],
   "source": [
    "num = int(input(\"Enter a number: \"))\n",
    "\n",
    "if num > 0 and num % 2 == 0:\n",
    "    print(f\"{num} is positive and even.\")\n",
    "elif num > 0 and num % 2 != 0:\n",
    "    print(f\"{num} is positive but not even.\")\n",
    "else:\n",
    "    print(f\"{num} is not both positive and even.\")\n"
   ]
  },
  {
   "cell_type": "markdown",
   "id": "7fc4349e-e696-41ca-8cd7-b907ea6bc4db",
   "metadata": {},
   "source": [
    "5. Type Casting in Python"
   ]
  },
  {
   "cell_type": "markdown",
   "id": "9d0ff906-21e0-469d-86a0-03f9b81add3b",
   "metadata": {},
   "source": [
    "(a). What is type casting? Explain the difference between implicit and explicit type \n",
    "casting with examples."
   ]
  },
  {
   "cell_type": "raw",
   "id": "90234a6c-b1e2-4478-b719-6610a040cbbc",
   "metadata": {},
   "source": [
    "Type casting is a way to convert data from one type to another.\n",
    "\n",
    "In implicit type casting, the conversion of one data type to another happens automatically by Python without any user intervention.\n",
    "In explicit type casting, the conversion is done manually by the programmer using Python’s built-in functions, such as int(), float(), str(), etc."
   ]
  },
  {
   "cell_type": "code",
   "execution_count": 30,
   "id": "a5236740-edfb-4330-b2a6-2f50d8af254e",
   "metadata": {},
   "outputs": [
    {
     "name": "stdout",
     "output_type": "stream",
     "text": [
      "8.2\n"
     ]
    },
    {
     "data": {
      "text/plain": [
       "float"
      ]
     },
     "execution_count": 30,
     "metadata": {},
     "output_type": "execute_result"
    }
   ],
   "source": [
    "# Implicit type casting\n",
    "x = 5   \n",
    "y = 3.2 \n",
    "\n",
    "add = x + y  \n",
    "print(add)   \n",
    "type(add)"
   ]
  },
  {
   "cell_type": "code",
   "execution_count": 31,
   "id": "45481aa8-0069-4d6f-b7ac-7c1dccdeaa8a",
   "metadata": {},
   "outputs": [
    {
     "name": "stdout",
     "output_type": "stream",
     "text": [
      "10\n"
     ]
    },
    {
     "data": {
      "text/plain": [
       "int"
      ]
     },
     "execution_count": 31,
     "metadata": {},
     "output_type": "execute_result"
    }
   ],
   "source": [
    "# Explicit type casting\n",
    "a = \"10\"  \n",
    "b = int(a) \n",
    "\n",
    "print(b)         \n",
    "type(b)  "
   ]
  },
  {
   "cell_type": "markdown",
   "id": "1bd686dc-c9fc-40cf-89b5-28bdccea8b97",
   "metadata": {},
   "source": [
    "(b). Write a Python script that: "
   ]
  },
  {
   "cell_type": "code",
   "execution_count": 34,
   "id": "8eb31aaf-32bc-43d4-9810-a131e2d2cfaf",
   "metadata": {},
   "outputs": [
    {
     "name": "stdout",
     "output_type": "stream",
     "text": [
      "5\n"
     ]
    },
    {
     "data": {
      "text/plain": [
       "int"
      ]
     },
     "execution_count": 34,
     "metadata": {},
     "output_type": "execute_result"
    }
   ],
   "source": [
    "# Converts a float to an integer\n",
    "a = 5.236\n",
    "b = int(a)\n",
    "\n",
    "print(b)\n",
    "type(b)"
   ]
  },
  {
   "cell_type": "code",
   "execution_count": 35,
   "id": "b2e1c7d0-46a1-456b-9b25-ff9d254b80f2",
   "metadata": {},
   "outputs": [
    {
     "name": "stdout",
     "output_type": "stream",
     "text": [
      "699\n"
     ]
    },
    {
     "data": {
      "text/plain": [
       "str"
      ]
     },
     "execution_count": 35,
     "metadata": {},
     "output_type": "execute_result"
    }
   ],
   "source": [
    "# Converts an integer to a string.\n",
    "a = 699\n",
    "b = str(a)\n",
    "\n",
    "print(b)\n",
    "type(b)"
   ]
  },
  {
   "cell_type": "code",
   "execution_count": 37,
   "id": "d1a3debb-98a2-4bc2-8764-a436a0053d12",
   "metadata": {},
   "outputs": [
    {
     "name": "stdout",
     "output_type": "stream",
     "text": [
      "5.562\n"
     ]
    },
    {
     "data": {
      "text/plain": [
       "float"
      ]
     },
     "execution_count": 37,
     "metadata": {},
     "output_type": "execute_result"
    }
   ],
   "source": [
    "# Converts a string to a float.\n",
    "a = \"5.562\"\n",
    "b = float(a)\n",
    "\n",
    "print(b)\n",
    "type(b)"
   ]
  },
  {
   "cell_type": "markdown",
   "id": "460f42a9-7301-4039-accb-a765be50e8ef",
   "metadata": {},
   "source": [
    "6. Practical Exercise: Mini Calculator  "
   ]
  },
  {
   "cell_type": "markdown",
   "id": "d39fa588-a9e6-411a-824c-f102c0246cf8",
   "metadata": {},
   "source": [
    "Write a Python script that asks the user to input two numbers and then: "
   ]
  },
  {
   "cell_type": "code",
   "execution_count": 49,
   "id": "334cc6dc-6339-464b-a0bd-c4acd12a9c68",
   "metadata": {},
   "outputs": [
    {
     "name": "stdin",
     "output_type": "stream",
     "text": [
      "Enter a number : 50\n",
      "Enter a number : 5\n"
     ]
    },
    {
     "name": "stdout",
     "output_type": "stream",
     "text": [
      "55\n",
      "-45\n",
      "250\n",
      "10.0\n",
      "55\n"
     ]
    },
    {
     "data": {
      "text/plain": [
       "str"
      ]
     },
     "execution_count": 49,
     "metadata": {},
     "output_type": "execute_result"
    }
   ],
   "source": [
    "n_1 = int(input(\"Enter a number :\"))\n",
    "n_2 = int(input(\"Enter a number :\"))\n",
    "\n",
    "add  = n_1 + n_2   #Adds the two numbers \n",
    "subs = n_2 - n_1   #Subtracts the second number from the first\n",
    "mult = n_1 * n_2   #Multiplies the two numbers \n",
    "div  = n_1 / n_2   #Divides the first number by the second\n",
    "sum = str(add)     #Converts the sum of the numbers to a string and prints the type\n",
    "\n",
    "print(add)\n",
    "print(subs)\n",
    "print(mult)\n",
    "print(div)\n",
    "\n",
    "print(sum)\n",
    "type(sum)"
   ]
  }
 ],
 "metadata": {
  "kernelspec": {
   "display_name": "Python 3 (ipykernel)",
   "language": "python",
   "name": "python3"
  },
  "language_info": {
   "codemirror_mode": {
    "name": "ipython",
    "version": 3
   },
   "file_extension": ".py",
   "mimetype": "text/x-python",
   "name": "python",
   "nbconvert_exporter": "python",
   "pygments_lexer": "ipython3",
   "version": "3.11.7"
  }
 },
 "nbformat": 4,
 "nbformat_minor": 5
}
